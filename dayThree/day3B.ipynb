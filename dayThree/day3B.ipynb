{
 "cells": [
  {
   "cell_type": "code",
   "execution_count": 1,
   "metadata": {},
   "outputs": [],
   "source": [
    "import re"
   ]
  },
  {
   "cell_type": "code",
   "execution_count": 2,
   "metadata": {},
   "outputs": [],
   "source": [
    "with open('day3AData.txt') as f:\n",
    "    lines = f.readlines(0)"
   ]
  },
  {
   "cell_type": "code",
   "execution_count": 3,
   "metadata": {},
   "outputs": [],
   "source": [
    "def pad_lines(lines: list) -> list:\n",
    "    # pad lines\n",
    "    lines.insert(0,\"\".join([\".\" for i in range(len(lines[0]))]))\n",
    "    lines.append(''.join(['.' for i in range(len(lines[0]))]))\n",
    "    lines[-2] = lines[-2]+\".\"\n",
    "    new_lines = [i.replace('\\n', \".\") for i in lines]\n",
    "    new_lines = [ \".\" + l for l in new_lines]\n",
    "    return new_lines"
   ]
  },
  {
   "cell_type": "code",
   "execution_count": 4,
   "metadata": {},
   "outputs": [],
   "source": [
    "# get unique chars that identify the correct part numbers\n",
    "def get_unique_chars(string: str, lines) -> set:\n",
    "    chars = \"\".join(lines)\n",
    "    vals = re.sub('\\d{1,100}','.',chars)\n",
    "    vals =  re.sub(\"\\n\", '.', vals)\n",
    "    vals = vals.replace('.','')\n",
    "    vals = set(vals)\n",
    "    return vals\n"
   ]
  },
  {
   "cell_type": "code",
   "execution_count": 5,
   "metadata": {},
   "outputs": [],
   "source": [
    "def include_part(intuple: tuple, file_lines: list, special_chars: list) -> bool:\n",
    "    upper_range = file_lines[intuple[0]-1][intuple[1]-1:intuple[2]+1] # may need to validate\n",
    "    mid_range = file_lines[intuple[0]][intuple[1]-1] + file_lines[intuple[0]][intuple[2]]\n",
    "    lower_range = file_lines[intuple[0]+1][intuple[1]-1:intuple[2]+1]\n",
    "    char_string = upper_range + mid_range + lower_range\n",
    "    return any(char in char_string for char in special_chars)\n"
   ]
  },
  {
   "cell_type": "code",
   "execution_count": 6,
   "metadata": {},
   "outputs": [],
   "source": [
    "def gen_digits_locs(lines: str) -> list:\n",
    "    ddd_list = []\n",
    "    for idx,i in enumerate(lines):\n",
    "        for m in re.finditer('\\d{1,3}',i):\n",
    "            ddd_list.append((idx, m.start(),m.end()))\n",
    "    return ddd_list"
   ]
  },
  {
   "cell_type": "code",
   "execution_count": 9,
   "metadata": {},
   "outputs": [
    {
     "name": "stdout",
     "output_type": "stream",
     "text": [
      "525119\n"
     ]
    }
   ],
   "source": [
    "# 1 pad lines\n",
    "padded_lines = pad_lines(lines)\n",
    "\n",
    "# 2 get special characters\n",
    "special_chars = get_unique_chars(padded_lines)\n",
    "\n",
    "# 3 gen location tupples (line index, start of digit, end of digit)\n",
    "\n",
    "num_locs = gen_digits_locs(padded_lines)\n",
    "\n",
    "parts = []\n",
    "for n, number in enumerate(num_locs):\n",
    "    if include_part(number,padded_lines,special_chars):\n",
    "        parts.append(int(padded_lines[number[0]][number[1]:number[2]]))\n",
    "\n",
    "print(sum(parts))\n"
   ]
  }
 ],
 "metadata": {
  "kernelspec": {
   "display_name": "Python 3",
   "language": "python",
   "name": "python3"
  },
  "language_info": {
   "codemirror_mode": {
    "name": "ipython",
    "version": 3
   },
   "file_extension": ".py",
   "mimetype": "text/x-python",
   "name": "python",
   "nbconvert_exporter": "python",
   "pygments_lexer": "ipython3",
   "version": "3.11.5"
  }
 },
 "nbformat": 4,
 "nbformat_minor": 2
}
