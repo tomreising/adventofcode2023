{
 "cells": [
  {
   "cell_type": "code",
   "execution_count": 25,
   "metadata": {},
   "outputs": [],
   "source": [
    "import re\n",
    "import numpy as np"
   ]
  },
  {
   "cell_type": "code",
   "execution_count": 2,
   "metadata": {},
   "outputs": [],
   "source": [
    "with open('day3AData.txt') as f:\n",
    "    lines = f.readlines(0)"
   ]
  },
  {
   "cell_type": "code",
   "execution_count": 3,
   "metadata": {},
   "outputs": [],
   "source": [
    "count_check = len(lines[0])"
   ]
  },
  {
   "cell_type": "code",
   "execution_count": 4,
   "metadata": {},
   "outputs": [],
   "source": [
    "def pad_lines(lines_in_val: list) -> list:\n",
    "    # pad lines\n",
    "    lines_in = lines_in_val.copy()\n",
    "    lines_in.insert(0,\"\".join([\".\" for i in range(len(lines_in[0]))]))\n",
    "    lines_in.append(''.join(['.' for i in range(len(lines_in[0]))]))\n",
    "    lines_in[-2] = lines_in[-2]+\".\"\n",
    "    new_lines = [i.replace('\\n', \".\") for i in lines_in]\n",
    "    new_lines = [ \".\" + l for l in new_lines]\n",
    "    return new_lines"
   ]
  },
  {
   "cell_type": "code",
   "execution_count": 5,
   "metadata": {},
   "outputs": [],
   "source": [
    "lines_clean = pad_lines(lines)"
   ]
  },
  {
   "cell_type": "code",
   "execution_count": 7,
   "metadata": {},
   "outputs": [],
   "source": [
    "for i in lines_clean:\n",
    "    assert(len(i) ==count_check+1)\n",
    "row_len = len(lines_clean[0])"
   ]
  },
  {
   "cell_type": "code",
   "execution_count": 8,
   "metadata": {},
   "outputs": [],
   "source": [
    "lines_2 = \"\".join(lines_clean)\n",
    "lines_2 = re.sub('\\n', '.', lines_2)\n",
    "assert (row_len * row_len) == (len(lines_2[0])*len(lines_2))"
   ]
  },
  {
   "cell_type": "code",
   "execution_count": 9,
   "metadata": {},
   "outputs": [],
   "source": [
    "num_locs = []\n",
    "for i in re.finditer('\\d{1,3}',lines_2):\n",
    "    num_rang = []\n",
    "    for num in range(i.start(), i.end()):\n",
    "        num_rang.append(num)\n",
    "    num_locs.append((num_rang,i.group(0)))"
   ]
  },
  {
   "cell_type": "code",
   "execution_count": 17,
   "metadata": {},
   "outputs": [],
   "source": [
    "star_locs = []\n",
    "for star_idx in re.finditer('\\*',lines_2):\n",
    "    idx = star_idx.start()\n",
    "    idx_lst = [\n",
    "        idx - row_len -1 , idx - row_len , idx - row_len + 1 ,\n",
    "        idx -1 , idx , idx + 1 , idx + row_len-1 , idx + row_len , idx + row_len+1\n",
    "    ]\n",
    "    star_locs.append(idx_lst)"
   ]
  },
  {
   "cell_type": "code",
   "execution_count": 29,
   "metadata": {},
   "outputs": [],
   "source": [
    "gears_list = []\n",
    "for stars in star_locs:\n",
    "    star_lst = []\n",
    "    for numbers in num_locs:\n",
    "        intersections = set(stars).intersection(set(numbers[0]))\n",
    "        if len(intersections) !=0:\n",
    "            star_lst.append(int(numbers[1]))\n",
    "    if len(star_lst) > 1:\n",
    "        gears_list.append(np.product(star_lst))\n",
    "    "
   ]
  },
  {
   "cell_type": "code",
   "execution_count": 32,
   "metadata": {},
   "outputs": [
    {
     "data": {
      "text/plain": [
       "76504829"
      ]
     },
     "execution_count": 32,
     "metadata": {},
     "output_type": "execute_result"
    }
   ],
   "source": [
    "sum(gears_list)"
   ]
  }
 ],
 "metadata": {
  "kernelspec": {
   "display_name": "Python 3",
   "language": "python",
   "name": "python3"
  },
  "language_info": {
   "codemirror_mode": {
    "name": "ipython",
    "version": 3
   },
   "file_extension": ".py",
   "mimetype": "text/x-python",
   "name": "python",
   "nbconvert_exporter": "python",
   "pygments_lexer": "ipython3",
   "version": "3.11.5"
  }
 },
 "nbformat": 4,
 "nbformat_minor": 2
}
