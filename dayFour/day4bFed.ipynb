{
 "cells": [
  {
   "cell_type": "code",
   "execution_count": 1,
   "metadata": {},
   "outputs": [],
   "source": [
    "import networkx as nx"
   ]
  },
  {
   "cell_type": "code",
   "execution_count": 2,
   "metadata": {},
   "outputs": [],
   "source": [
    "\n",
    "def get_winnin_cards(clean_line:list) -> tuple:\n",
    "    list_data =[]\n",
    "    for n,line in enumerate(clean_line):\n",
    "        card_num= f\"card_{n+1}\"\n",
    "        winning_num_list = [int(numb.strip()) for numb in line.split(\"|\")[0].split(':')[1].split(\" \") if numb.strip() != \"\"]\n",
    "        played_num_list = [int(numb.strip()) for numb in line.split(\"|\")[1].split(\" \") if numb.strip() != \"\"]\n",
    "        scored_numbers = [winner for winner in played_num_list if winner in winning_num_list]\n",
    "        list_data.append([card_num, len(scored_numbers)])\n",
    "    return list_data"
   ]
  },
  {
   "cell_type": "code",
   "execution_count": 3,
   "metadata": {},
   "outputs": [],
   "source": [
    "# apply logic for out of idx cards\n",
    "\n",
    "def get_card_tree_relations(card_list: list) -> list:\n",
    "    \"\"\"\n",
    "    takes list of cards and total number of winning numbers and returns\n",
    "    node relations.\n",
    "    example input : card_list = [[\"card1\", 1],[\"card2\", 1], [\"card3\", 3]]\n",
    "    example output: ['card1 : card2' , 'card2 : card3']\n",
    "    :params: card_list\n",
    "    :returns: list of card relations\n",
    "    \"\"\"\n",
    "    relations = []\n",
    "    for n,card in enumerate(card_list):\n",
    "        if card[1] > len(card_list)-(n+1):\n",
    "            itr_range = len(card_list)-(n+1)\n",
    "        else:\n",
    "            itr_range = card[1]\n",
    "        if itr_range != 0:\n",
    "            for i in range(itr_range):\n",
    "                relations.append(\n",
    "                    (card[0] ,\"card_\" + str((n+i)+2))\n",
    "                )\n",
    "    return relations"
   ]
  },
  {
   "cell_type": "code",
   "execution_count": 4,
   "metadata": {},
   "outputs": [],
   "source": [
    "sample = \"\"\"Card 1: 41 48 83 86 17 | 83 86  6 31 17  9 48 53\n",
    "Card 2: 13 32 20 16 61 | 61 30 68 82 17 32 24 19\n",
    "Card 3:  1 21 53 59 44 | 69 82 63 72 16 21 14  1\n",
    "Card 4: 41 92 73 84 69 | 59 84 76 51 58  5 54 83\n",
    "Card 5: 87 83 26 28 32 | 88 30 70 12 93 22 82 36\n",
    "Card 6: 31 18 13 56 72 | 74 77 10 23 35 67 36 11\"\"\""
   ]
  },
  {
   "cell_type": "code",
   "execution_count": 5,
   "metadata": {},
   "outputs": [],
   "source": [
    "data = sample.split(\"\\n\")"
   ]
  },
  {
   "cell_type": "code",
   "execution_count": 6,
   "metadata": {},
   "outputs": [
    {
     "data": {
      "text/plain": [
       "['Card 1: 41 48 83 86 17 | 83 86  6 31 17  9 48 53',\n",
       " 'Card 2: 13 32 20 16 61 | 61 30 68 82 17 32 24 19',\n",
       " 'Card 3:  1 21 53 59 44 | 69 82 63 72 16 21 14  1',\n",
       " 'Card 4: 41 92 73 84 69 | 59 84 76 51 58  5 54 83',\n",
       " 'Card 5: 87 83 26 28 32 | 88 30 70 12 93 22 82 36',\n",
       " 'Card 6: 31 18 13 56 72 | 74 77 10 23 35 67 36 11']"
      ]
     },
     "execution_count": 6,
     "metadata": {},
     "output_type": "execute_result"
    }
   ],
   "source": [
    "data"
   ]
  },
  {
   "cell_type": "code",
   "execution_count": 4,
   "metadata": {},
   "outputs": [],
   "source": [
    "with open(\"day4Data.txt\") as f:\n",
    "        lines = f.readlines()"
   ]
  },
  {
   "cell_type": "code",
   "execution_count": 34,
   "metadata": {},
   "outputs": [],
   "source": [
    "winners = get_winnin_cards(data)"
   ]
  },
  {
   "cell_type": "code",
   "execution_count": 8,
   "metadata": {},
   "outputs": [],
   "source": [
    "winners = [x for x in winners if x[1] !=0 ]"
   ]
  },
  {
   "cell_type": "code",
   "execution_count": 35,
   "metadata": {},
   "outputs": [
    {
     "data": {
      "text/plain": [
       "[['card_1', 4],\n",
       " ['card_2', 2],\n",
       " ['card_3', 2],\n",
       " ['card_4', 1],\n",
       " ['card_5', 0],\n",
       " ['card_6', 0]]"
      ]
     },
     "execution_count": 35,
     "metadata": {},
     "output_type": "execute_result"
    }
   ],
   "source": [
    "winners"
   ]
  },
  {
   "cell_type": "code",
   "execution_count": 11,
   "metadata": {},
   "outputs": [
    {
     "data": {
      "text/plain": [
       "[('card_1', 'card_2'),\n",
       " ('card_1', 'card_3'),\n",
       " ('card_1', 'card_4'),\n",
       " ('card_1', 'card_5'),\n",
       " ('card_2', 'card_3'),\n",
       " ('card_2', 'card_4'),\n",
       " ('card_3', 'card_4'),\n",
       " ('card_3', 'card_5'),\n",
       " ('card_4', 'card_5')]"
      ]
     },
     "execution_count": 11,
     "metadata": {},
     "output_type": "execute_result"
    }
   ],
   "source": [
    "get_card_tree_relations(get_winnin_cards(data))"
   ]
  },
  {
   "cell_type": "code",
   "execution_count": 8,
   "metadata": {},
   "outputs": [],
   "source": [
    "G = nx.DiGraph()\n",
    "G.add_edges_from(get_card_tree_relations(get_winnin_cards(data)))"
   ]
  },
  {
   "cell_type": "code",
   "execution_count": 13,
   "metadata": {},
   "outputs": [
    {
     "data": {
      "text/plain": [
       "{'card_3', 'card_4', 'card_5'}"
      ]
     },
     "execution_count": 13,
     "metadata": {},
     "output_type": "execute_result"
    }
   ],
   "source": [
    "nx.descendants(G,'card_2')"
   ]
  },
  {
   "cell_type": "code",
   "execution_count": 18,
   "metadata": {},
   "outputs": [],
   "source": [
    "winners = list(G.nodes)"
   ]
  },
  {
   "cell_type": "code",
   "execution_count": 19,
   "metadata": {},
   "outputs": [
    {
     "data": {
      "text/plain": [
       "['card_1', 'card_2', 'card_3', 'card_4', 'card_5']"
      ]
     },
     "execution_count": 19,
     "metadata": {},
     "output_type": "execute_result"
    }
   ],
   "source": [
    "winners"
   ]
  },
  {
   "cell_type": "code",
   "execution_count": 20,
   "metadata": {},
   "outputs": [],
   "source": [
    "count= len(nx.descendants(G,winners[0]))"
   ]
  },
  {
   "cell_type": "code",
   "execution_count": 21,
   "metadata": {},
   "outputs": [],
   "source": [
    "count= len(nx.descendants(G,winners[0]))\n",
    "for winner_card in winners:\n",
    "    # counts = len(nx.descendants(G,winner_card[0]))\n",
    "    for node in nx.descendants(G,winner_card):\n",
    "        count += len(nx.descendants(G,node))"
   ]
  },
  {
   "cell_type": "code",
   "execution_count": 22,
   "metadata": {},
   "outputs": [
    {
     "data": {
      "text/plain": [
       "20"
      ]
     },
     "execution_count": 22,
     "metadata": {},
     "output_type": "execute_result"
    }
   ],
   "source": [
    "count+ len(data)"
   ]
  },
  {
   "cell_type": "code",
   "execution_count": 10,
   "metadata": {},
   "outputs": [
    {
     "data": {
      "image/png": "[encoded data removed]",
      "text/plain": [
       "<Figure size 640x480 with 1 Axes>"
      ]
     },
     "metadata": {},
     "output_type": "display_data"
    }
   ],
   "source": [
    "nx.draw(G)"
   ]
  }
 ],
 "metadata": {
  "kernelspec": {
   "display_name": "Python 3",
   "language": "python",
   "name": "python3"
  },
  "language_info": {
   "codemirror_mode": {
    "name": "ipython",
    "version": 3
   },
   "file_extension": ".py",
   "mimetype": "text/x-python",
   "name": "python",
   "nbconvert_exporter": "python",
   "pygments_lexer": "ipython3",
   "version": "3.11.5"
  }
 },
 "nbformat": 4,
 "nbformat_minor": 2
}
